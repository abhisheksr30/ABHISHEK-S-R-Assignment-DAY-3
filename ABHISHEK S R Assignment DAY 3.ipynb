{
 "cells": [
  {
   "cell_type": "markdown",
   "metadata": {},
   "source": [
    "# Assignment Day 3 Solution"
   ]
  },
  {
   "cell_type": "raw",
   "metadata": {},
   "source": [
    "Data Science 101 Course\n",
    "Name- ABHISHEK S R\n",
    "Mail Id - abhisheksr30@gmail.com"
   ]
  },
  {
   "cell_type": "markdown",
   "metadata": {},
   "source": [
    "# Questions 1:"
   ]
  },
  {
   "cell_type": "raw",
   "metadata": {},
   "source": [
    "Create a numpy array starting from 2 till 50 with a stepsize of 3."
   ]
  },
  {
   "cell_type": "code",
   "execution_count": 2,
   "metadata": {},
   "outputs": [
    {
     "name": "stdout",
     "output_type": "stream",
     "text": [
      "[ 2  5  8 11 14 17 20 23 26 29 32 35 38 41 44 47]\n"
     ]
    }
   ],
   "source": [
    "import numpy as np \n",
    "  \n",
    "# Printing all numbers from 2 to 50 in steps of 3 \n",
    "print(np.arange(2, 50, 3))"
   ]
  },
  {
   "cell_type": "markdown",
   "metadata": {},
   "source": [
    "# Questions 2:"
   ]
  },
  {
   "cell_type": "raw",
   "metadata": {},
   "source": [
    "Accept two lists of 5 elements each from the user.\n",
    "Convert them to numpy arrays. Concatenate these arrays and print it.\n",
    "Also sort these arrays and print it"
   ]
  },
  {
   "cell_type": "code",
   "execution_count": 3,
   "metadata": {},
   "outputs": [
    {
     "name": "stdout",
     "output_type": "stream",
     "text": [
      "Enter the size of list 5\n",
      "\n",
      "\n",
      "Enter the list numbers separated by space 10 52 5 69 41\n",
      "First List:  [10, 52, 5, 69, 41]\n",
      "\n",
      "\n",
      "Enter the size of list 5\n",
      "\n",
      "\n",
      "Enter the list numbers separated by space 12 34 32 67 2\n",
      "Second List:  [12, 34, 32, 67, 2]\n",
      "\n",
      "\n",
      "Array1 as Numpy_Array  [10 52  5 69 41]\n",
      "Array2 as Numpy_Array  [12 34 32 67  2]\n",
      "\n",
      "\n",
      "Concatenated array  [10 52  5 69 41 12 34 32 67  2]\n",
      "\n",
      "\n",
      "Sorted Array  [ 2  5 10 12 32 34 41 52 67 69]\n"
     ]
    }
   ],
   "source": [
    "import numpy \n",
    "First_list = int(input(\"Enter the size of list \"))\n",
    "print(\"\\n\")\n",
    "numList_1 = list(int(num) for num in input(\"Enter the list numbers separated by space \").strip().split())[:First_list]\n",
    "print(\"First List: \", numList_1)\n",
    "print(\"\\n\")\n",
    "Second_list = int(input(\"Enter the size of list \"))\n",
    "print(\"\\n\")\n",
    "numList_2 = list(int(num) for num in input(\"Enter the list numbers separated by space \").strip().split())[:Second_list]\n",
    "print(\"Second List: \", numList_2)\n",
    "print(\"\\n\")\n",
    "Array_1 = numpy.array(numList_1)\n",
    "Array_2 = numpy.array(numList_2)\n",
    "\n",
    "print(\"Array1 as Numpy_Array \",Array_1)\n",
    "print(\"Array2 as Numpy_Array \",Array_2)\n",
    "print(\"\\n\")\n",
    "\n",
    "Concatenated_array = numpy.concatenate((Array_1, Array_2), axis=0)\n",
    "print(\"Concatenated array \", Concatenated_array)\n",
    "print(\"\\n\")\n",
    "Concatenated_array.sort()\n",
    "print(\"Sorted Array \", Concatenated_array)"
   ]
  },
  {
   "cell_type": "markdown",
   "metadata": {},
   "source": [
    "# Questions 3:"
   ]
  },
  {
   "cell_type": "raw",
   "metadata": {},
   "source": [
    "Write a code snippet to find the dimensions of a ndarray and its size."
   ]
  },
  {
   "cell_type": "code",
   "execution_count": 4,
   "metadata": {},
   "outputs": [
    {
     "name": "stdout",
     "output_type": "stream",
     "text": [
      "2D Numpy Array\n",
      "[[11 12 13 11]\n",
      " [21 22 23 24]\n",
      " [31 32 33 34]]\n",
      "\n",
      "\n",
      "Number of Rows :  3\n",
      "Number of Columns :  4\n"
     ]
    }
   ],
   "source": [
    "# Create a 2D Numpy array list of list\n",
    "arr2D = np.array([[11 ,12,13,11], [21, 22, 23, 24], [31,32,33,34]])\n",
    "print('2D Numpy Array')\n",
    "print(arr2D)\n",
    "print(\"\\n\")\n",
    "# number of rows in 2D numpy array\n",
    "numOfRows = np.size(arr2D, 0)\n",
    "# number of columns in 2D numpy array\n",
    "numOfColumns = np.size(arr2D, 1)\n",
    "print('Number of Rows : ', numOfRows)\n",
    "print('Number of Columns : ', numOfColumns)"
   ]
  },
  {
   "cell_type": "markdown",
   "metadata": {},
   "source": [
    "# Questions 4:"
   ]
  },
  {
   "cell_type": "raw",
   "metadata": {},
   "source": [
    "How to convert a 1D array into a 2D array? Demonstrate with the help of a code snippet\n",
    "Hint: np.newaxis, np.expand_dims"
   ]
  },
  {
   "cell_type": "code",
   "execution_count": 5,
   "metadata": {},
   "outputs": [
    {
     "name": "stdout",
     "output_type": "stream",
     "text": [
      "1D Numpy array:\n",
      "[0 1 2 3 4 5 6 7 8 9]\n",
      "\n",
      "\n",
      "2D Array \n",
      "[[0 1 2 3 4]\n",
      " [5 6 7 8 9]]\n"
     ]
    }
   ],
   "source": [
    "# create 1D numpy array from a list\n",
    "arr = np.array([0, 1, 2, 3, 4, 5, 6, 7, 8, 9])\n",
    "print('1D Numpy array:')\n",
    "print(arr)\n",
    "print(\"\\n\")\n",
    "\n",
    "arr = np.array([0, 1, 2, 3, 4, 5, 6, 7, 8, 9])\n",
    "# Convert 1D array to a 2D numpy array of 2 rows and 3 columns\n",
    "arr_2d = np.reshape(arr, (2, 5))\n",
    "print(\"2D Array \")\n",
    "print(arr_2d)"
   ]
  },
  {
   "cell_type": "markdown",
   "metadata": {},
   "source": [
    "# Questions 5:"
   ]
  },
  {
   "cell_type": "raw",
   "metadata": {},
   "source": [
    "Consider two square numpy arrays. Stack them vertically and horizontally.\n",
    "Hint: Use vstack(), hstack()"
   ]
  },
  {
   "cell_type": "code",
   "execution_count": 6,
   "metadata": {},
   "outputs": [
    {
     "name": "stdout",
     "output_type": "stream",
     "text": [
      "Vertical stacking:\n",
      " [[1 2]\n",
      " [3 4]\n",
      " [5 6]\n",
      " [7 8]]\n",
      "\n",
      "Horizontal stacking:\n",
      " [[1 2 5 6]\n",
      " [3 4 7 8]]\n"
     ]
    }
   ],
   "source": [
    "a = np.array([[1, 2], \n",
    "              [3, 4]]) \n",
    "  \n",
    "b = np.array([[5, 6], \n",
    "              [7, 8]]) \n",
    "  \n",
    "# vertical stacking \n",
    "print(\"Vertical stacking:\\n\", np.vstack((a, b))) \n",
    "  \n",
    "# horizontal stacking \n",
    "print(\"\\nHorizontal stacking:\\n\", np.hstack((a, b)))"
   ]
  },
  {
   "cell_type": "markdown",
   "metadata": {},
   "source": [
    "# Questions 6:"
   ]
  },
  {
   "cell_type": "raw",
   "metadata": {},
   "source": [
    "How to get unique items and counts of unique items?"
   ]
  },
  {
   "cell_type": "code",
   "execution_count": 8,
   "metadata": {},
   "outputs": [
    {
     "name": "stdout",
     "output_type": "stream",
     "text": [
      "The unique values from 1st list is\n",
      "[10 20 30 40]\n",
      "No of unique items in the list are: 4\n"
     ]
    }
   ],
   "source": [
    "def unique(list1): \n",
    "    x = np.array(list1) \n",
    "    print(np.unique(x)) \n",
    "      \n",
    "# driver code \n",
    "list1 = [10, 20, 10, 30, 40, 40] \n",
    "print(\"The unique values from 1st list is\") \n",
    "unique(list1) \n",
    "  \n",
    "# converting our list to set \n",
    "new_set = set(list1) \n",
    "print(\"No of unique items in the list are:\", len(new_set))"
   ]
  },
  {
   "cell_type": "code",
   "execution_count": null,
   "metadata": {},
   "outputs": [],
   "source": []
  }
 ],
 "metadata": {
  "kernelspec": {
   "display_name": "Python 3",
   "language": "python",
   "name": "python3"
  },
  "language_info": {
   "codemirror_mode": {
    "name": "ipython",
    "version": 3
   },
   "file_extension": ".py",
   "mimetype": "text/x-python",
   "name": "python",
   "nbconvert_exporter": "python",
   "pygments_lexer": "ipython3",
   "version": "3.8.3"
  }
 },
 "nbformat": 4,
 "nbformat_minor": 4
}
